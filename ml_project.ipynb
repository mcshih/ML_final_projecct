{
 "cells": [
  {
   "cell_type": "markdown",
   "metadata": {},
   "source": [
    "model: SVM\n",
    "\n",
    "y_value: hp\n",
    "\n",
    "pre processing: 灰階 -> resize -> HOG"
   ]
  },
  {
   "cell_type": "code",
   "execution_count": 1,
   "metadata": {},
   "outputs": [],
   "source": [
    "import pandas as pd\n",
    "import numpy as np\n",
    "import matplotlib.pyplot as plt\n",
    "from tqdm.notebook import tqdm\n",
    "\n",
    "import cv2\n",
    "from skimage import data, color, feature\n",
    "\n",
    "from sklearn.model_selection import train_test_split\n",
    "from sklearn.pipeline import make_pipeline\n",
    "from sklearn.preprocessing import StandardScaler\n",
    "from sklearn.svm import SVC\n",
    "from sklearn.metrics import classification_report, plot_confusion_matrix, confusion_matrix"
   ]
  },
  {
   "cell_type": "code",
   "execution_count": 2,
   "metadata": {},
   "outputs": [],
   "source": [
    "def load_img(path, csv_path):\n",
    "    df = pd.read_csv(csv_path)\n",
    "    img_list = df['image'].tolist()\n",
    "    img_data_list = []\n",
    "    for item in tqdm(img_list):\n",
    "        img_path = path + item\n",
    "        img = cv2.imread(img_path)\n",
    "        gray = cv2.cvtColor(img, cv2.COLOR_BGR2GRAY)\n",
    "        gray = cv2.resize(gray, (89, 109), interpolation=cv2.INTER_AREA)\n",
    "        fd, hog_image = feature.hog(gray, visualize=True)\n",
    "        img_data_list.append(hog_image.flatten())\n",
    "    return img_data_list"
   ]
  },
  {
   "cell_type": "code",
   "execution_count": 3,
   "metadata": {},
   "outputs": [
    {
     "name": "stdout",
     "output_type": "stream",
     "text": [
      "<bound method NDFrame.head of       name                image  hp  pa  ma  sp  cr\n",
      "0     shih  nba_players_290.png  10   7   3   9   8\n",
      "1     shih           032621.jpg   4   5   8   9   7\n",
      "2     shih  nba_players_429.png   6   5   6   7   5\n",
      "3     liao           090899.jpg   5   4   7   4   4\n",
      "4     liao           095790.jpg   6   5   5   3   7\n",
      "...    ...                  ...  ..  ..  ..  ..  ..\n",
      "1687  shih           181096.jpg   7   8   3   7   6\n",
      "1688  shih           070158.jpg   5   3   4   3   4\n",
      "1689  shih           182295.jpg   3   1   4   3   1\n",
      "1690  shih           145346.jpg   3   2   4   3   2\n",
      "1691  shih           131518.jpg   7   6   5   6   5\n",
      "\n",
      "[1692 rows x 7 columns]>\n"
     ]
    },
    {
     "data": {
      "application/vnd.jupyter.widget-view+json": {
       "model_id": "0c7229a401ad48d29def8c7616077199",
       "version_major": 2,
       "version_minor": 0
      },
      "text/plain": [
       "HBox(children=(FloatProgress(value=0.0, max=1692.0), HTML(value='')))"
      ]
     },
     "metadata": {},
     "output_type": "display_data"
    },
    {
     "name": "stdout",
     "output_type": "stream",
     "text": [
      "\n"
     ]
    }
   ],
   "source": [
    "csv_path = \"all_records.csv\"\n",
    "df = pd.read_csv(csv_path)\n",
    "print(df.head)\n",
    "img_info = load_img(\"./all_images/static/img/need_scored/\", csv_path)"
   ]
  },
  {
   "cell_type": "code",
   "execution_count": 4,
   "metadata": {},
   "outputs": [
    {
     "name": "stdout",
     "output_type": "stream",
     "text": [
      "(9701,)\n"
     ]
    }
   ],
   "source": [
    "print(img_info[0].shape)"
   ]
  },
  {
   "cell_type": "code",
   "execution_count": 5,
   "metadata": {},
   "outputs": [],
   "source": [
    "X_train, X_test, y_train, y_test = train_test_split(img_info, df['hp'], test_size=0.3,random_state=109)"
   ]
  },
  {
   "cell_type": "code",
   "execution_count": 6,
   "metadata": {},
   "outputs": [
    {
     "name": "stdout",
     "output_type": "stream",
     "text": [
      "0.39864864864864863\n",
      "0.21653543307086615\n"
     ]
    }
   ],
   "source": [
    "clf = make_pipeline(StandardScaler(), SVC(gamma='auto'))\n",
    "clf.fit(X_train, y_train)\n",
    "\n",
    "print(clf.score(X_train,y_train))\n",
    "print(clf.score(X_test, y_test))"
   ]
  },
  {
   "cell_type": "code",
   "execution_count": 7,
   "metadata": {},
   "outputs": [
    {
     "data": {
      "image/png": "[encoded data removed]",
      "text/plain": [
       "<Figure size 432x288 with 2 Axes>"
      ]
     },
     "metadata": {
      "needs_background": "light"
     },
     "output_type": "display_data"
    }
   ],
   "source": [
    "plot_confusion_matrix(clf, X_test, y_test)\n",
    "plt.show()"
   ]
  }
 ],
 "metadata": {
  "kernelspec": {
   "display_name": "Python 3",
   "language": "python",
   "name": "python3"
  },
  "language_info": {
   "codemirror_mode": {
    "name": "ipython",
    "version": 3
   },
   "file_extension": ".py",
   "mimetype": "text/x-python",
   "name": "python",
   "nbconvert_exporter": "python",
   "pygments_lexer": "ipython3",
   "version": "3.7.7"
  }
 },
 "nbformat": 4,
 "nbformat_minor": 4
}
